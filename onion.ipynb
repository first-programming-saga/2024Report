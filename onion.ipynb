{
 "cells": [
  {
   "cell_type": "markdown",
   "metadata": {},
   "source": [
    "# 課題5. たまねぎ出荷量: 2022年度"
   ]
  },
  {
   "cell_type": "code",
   "execution_count": null,
   "metadata": {},
   "outputs": [],
   "source": [
    "import pandas\n",
    "import matplotlib.pyplot as plt\n",
    "import japanize_matplotlib\n",
    "# url = 'https://www.e-stat.go.jp/stat-search/file-download?statInfId=000040128971&fileKind=0'\n",
    "url = 'f005-04-126.xlsx'"
   ]
  },
  {
   "cell_type": "code",
   "execution_count": null,
   "metadata": {},
   "outputs": [],
   "source": [
    "plt.rcParams[\"mathtext.fontset\"] = 'cm'\n",
    "plt.rcParams['mathtext.default'] = 'it'\n",
    "plt.rcParams[\"font.size\"] = 12#フォントサイズ\n",
    "# plt.rcParams['figure.subplot.bottom'] = 0.14#横軸の下のスペース"
   ]
  },
  {
   "cell_type": "code",
   "execution_count": null,
   "metadata": {},
   "outputs": [],
   "source": [
    "def readFile(url:str)->pandas.DataFrame:\n",
    "    with pandas.ExcelFile(url) as xls:\n",
    "        df = pandas.read_excel(xls, header=8, skiprows=[8,9,10,11,12],skipfooter=2,usecols='A,B,D:F')\n",
    "    df.columns = ['都道府県','市町村','作付面積','収穫量','出荷量']\n",
    "    # 市町村名のある行に都道府県名を補完\n",
    "    pref:str = ''\n",
    "    for k in df.index:\n",
    "        p = df.loc[k,'都道府県']\n",
    "        if type(p) is str and p != 'nan':\n",
    "            pref = p\n",
    "        else:\n",
    "            v = df.loc[k,'出荷量']\n",
    "            if v!='nan':\n",
    "                df.loc[k,'都道府県'] = pref\n",
    "    df.dropna(subset=['出荷量'],inplace=True)#出荷量がない行を削除\n",
    "    # 市町村名を都道府県名と連結\n",
    "    ser = pandas.Series(index=df.index,dtype=str)\n",
    "    for k in df.index:\n",
    "        p = df.loc[k,'都道府県']\n",
    "        c = df.loc[k,'市町村']\n",
    "        ser[k] = f'{p}・{c}'\n",
    "    df['市町村'] = ser\n",
    "    df.set_index('市町村',inplace=True)\n",
    "    # 出荷量が数値でない行の出荷量を0にする\n",
    "    ser = pandas.Series(index=df.index,dtype=int)\n",
    "    for i,k in enumerate(df.index):\n",
    "        v = df.loc[k,'出荷量']\n",
    "        if type(v) is int:\n",
    "            ser[k] = v\n",
    "        elif type(v) is str:\n",
    "            ser[k] = 0\n",
    "    df['出荷量'] = ser\n",
    "    df.drop(columns='都道府県',inplace=True)\n",
    "    return df"
   ]
  },
  {
   "cell_type": "code",
   "execution_count": null,
   "metadata": {},
   "outputs": [],
   "source": [
    "def SagaPref(df:pandas.DataFrame)->None:\n",
    "    \"\"\"\n",
    "    佐賀県データだけを抽出し、出荷量の多い順に横向き棒グラフを表示する\n",
    "    \"\"\"\n",
    "    df2 = df.filter(like='佐賀県',axis='index')\n",
    "    df3=df2.sort_values('出荷量',ascending=True)\n",
    "    fig,ax = plt.subplots()\n",
    "    ser = df3['出荷量']/1000\n",
    "    ser.plot(kind='barh',ax=ax)\n",
    "    ax.set_ylabel('市町村')\n",
    "    ax.set_xlabel('出荷量(kt)')\n",
    "    ax.set_title('佐賀県のたまねぎ出荷量(2022年度)')\n",
    "    plt.show()"
   ]
  },
  {
   "cell_type": "code",
   "execution_count": null,
   "metadata": {},
   "outputs": [],
   "source": [
    "def createPrefData(df:pandas.DataFrame)->pandas.Series:\n",
    "    \"\"\"\n",
    "    県毎の出荷量を計算する\n",
    "    \n",
    "    都道府県名をindexに、出荷量をvalueにしたSeriesを返す\n",
    "    \"\"\"\n",
    "    amount:dict[str,int] = {}\n",
    "\n",
    "\n",
    "\n",
    "\n",
    "\n",
    "\n",
    "    return pandas.Series(amount)"
   ]
  },
  {
   "cell_type": "code",
   "execution_count": null,
   "metadata": {},
   "outputs": [],
   "source": [
    "def comparePref(df:pandas.DataFrame)->None:\n",
    "    \"\"\"\n",
    "    県毎の出荷量を比較する\n",
    "    \"\"\"\n",
    "    fig,ax = plt.subplots()\n",
    "\n",
    "\n",
    "\n",
    "    ax.set_ylabel('都道府県')\n",
    "    ax.set_xlabel('出荷量(kt)')\n",
    "    ax.set_title('都道府県別たまねぎ出荷量(2022年度)')\n",
    "    plt.show()"
   ]
  },
  {
   "cell_type": "code",
   "execution_count": null,
   "metadata": {},
   "outputs": [],
   "source": [
    "df = readFile(url)\n",
    "SagaPref(df)\n",
    "# comparePref(df)"
   ]
  }
 ],
 "metadata": {
  "kernelspec": {
   "display_name": "myenv",
   "language": "python",
   "name": "python3"
  },
  "language_info": {
   "codemirror_mode": {
    "name": "ipython",
    "version": 3
   },
   "file_extension": ".py",
   "mimetype": "text/x-python",
   "name": "python",
   "nbconvert_exporter": "python",
   "pygments_lexer": "ipython3",
   "version": "3.12.2"
  }
 },
 "nbformat": 4,
 "nbformat_minor": 2
}
