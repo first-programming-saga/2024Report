{
 "cells": [
  {
   "cell_type": "markdown",
   "metadata": {},
   "source": [
    "# 2. 国勢調査データ"
   ]
  },
  {
   "cell_type": "code",
   "execution_count": null,
   "metadata": {},
   "outputs": [],
   "source": [
    "import pandas as pd\n",
    "import matplotlib.pyplot as plt\n",
    "import japanize_matplotlib"
   ]
  },
  {
   "cell_type": "code",
   "execution_count": null,
   "metadata": {},
   "outputs": [],
   "source": [
    "# url='https://www.e-stat.go.jp/stat-search/file-download?statInfId=000032142410&fileKind=0'\n",
    "url ='b02_07.xlsx'"
   ]
  },
  {
   "cell_type": "code",
   "execution_count": null,
   "metadata": {},
   "outputs": [],
   "source": [
    "def readData(filename:str)->pd.DataFrame:\n",
    "    \"\"\"\n",
    "    Excel ファイルを読み、都道府県別の人口データを返す\n",
    "    人口データのカラムは、都道府県、年少、生産年齢、老年\n",
    "    男女別のデータは含まれていない\n",
    "    \"\"\"\n",
    "    with pd.ExcelFile(filename) as xls:\n",
    "        data = pd.read_excel(xls,  header=9,skiprows=[10,11,12],skipfooter=20430,usecols='G,I,AG:AI')\n",
    "    data.columns = ['都道府県','地域名','年少','生産年齢','老年']\n",
    "    df = pd.DataFrame(columns = data.columns)\n",
    "    for k in data.index:\n",
    "        p:str = data.loc[k,'都道府県'] #type: ignore\n",
    "        c:str  = data.loc[k,'地域名']#type: ignore\n",
    "        if p[3:] == c[5:]:\n",
    "            ser =data.loc[k]\n",
    "            ser['都道府県'] = p[3:]\n",
    "            ser['地域名'] = c[5:]\n",
    "            df.loc[k]=ser\n",
    "    df.drop(columns='地域名',inplace=True)\n",
    "    df.set_index('都道府県',inplace=True)\n",
    "    return df"
   ]
  },
  {
   "cell_type": "code",
   "execution_count": null,
   "metadata": {},
   "outputs": [],
   "source": [
    "def drawGraph(df:pd.DataFrame, prefectures:list[str],title:str)->None:\n",
    "    \"\"\"\n",
    "    人口データを年齢構成比の積み上げグラフで表示する\n",
    "    \"\"\"\n",
    "\n",
    "\n",
    "\n",
    "\n",
    "\n",
    "\n",
    "\n",
    "\n",
    "\n"
   ]
  },
  {
   "cell_type": "code",
   "execution_count": null,
   "metadata": {},
   "outputs": [],
   "source": [
    "df = readData(url)\n",
    "prefectures=['福岡県','佐賀県','長崎県','熊本県','大分県','宮崎県','鹿児島県','沖縄県']\n",
    "title ='九州地方の人口構成比 (2020年度)'\n",
    "drawGraph(df,prefectures,title)"
   ]
  }
 ],
 "metadata": {
  "kernelspec": {
   "display_name": "myenv",
   "language": "python",
   "name": "python3"
  },
  "language_info": {
   "codemirror_mode": {
    "name": "ipython",
    "version": 3
   },
   "file_extension": ".py",
   "mimetype": "text/x-python",
   "name": "python",
   "nbconvert_exporter": "python",
   "pygments_lexer": "ipython3",
   "version": "3.12.1"
  }
 },
 "nbformat": 4,
 "nbformat_minor": 2
}
