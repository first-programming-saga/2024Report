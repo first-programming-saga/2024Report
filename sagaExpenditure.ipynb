{
 "cells": [
  {
   "attachments": {},
   "cell_type": "markdown",
   "metadata": {},
   "source": [
    "# 課題1: 佐賀県の家計支出"
   ]
  },
  {
   "cell_type": "code",
   "execution_count": null,
   "metadata": {},
   "outputs": [],
   "source": [
    "import pandas\n",
    "import matplotlib.pyplot as plt\n",
    "import japanize_matplotlib"
   ]
  },
  {
   "cell_type": "code",
   "execution_count": null,
   "metadata": {},
   "outputs": [],
   "source": [
    "#url = 'https://www.pref.saga.lg.jp/toukei/kiji003101414/3_101414_309641_up_0nuzwblq.xlsx'\n",
    "url = '3_101414_309641_up_0nuzwblq.xlsx'"
   ]
  },
  {
   "cell_type": "code",
   "execution_count": null,
   "metadata": {},
   "outputs": [],
   "source": [
    "colors = ['tomato','green','purple','cyan','violet','pink','bisque','plum','orange','aqua']"
   ]
  },
  {
   "cell_type": "code",
   "execution_count": null,
   "metadata": {},
   "outputs": [],
   "source": [
    "def getData(filename:str) -> pandas.DataFrame:\n",
    "    \"\"\"\n",
    "    Excelファイルを読み込む\n",
    "    \"\"\"\n",
    "    # Excelファイルを読む\n",
    "    with pandas.ExcelFile(filename) as f:\n",
    "        data = pandas.read_excel(f, \n",
    "            sheet_name='15-4',header=2, usecols='B,D:K',\n",
    "            skiprows=[3,4,5,6,7,8,9],skipfooter=6)\n",
    "    data.rename(columns={'項           目':'項目'},inplace=True)\n",
    "    data.dropna(subset=['項目'],inplace=True)# 項目が空の行を削除\n",
    "    data.set_index('項目',inplace=True)\n",
    "    # 和暦を西暦に変換: 課題\n",
    "\n",
    "\n",
    "\n",
    "\n",
    "    return data"
   ]
  },
  {
   "cell_type": "code",
   "execution_count": null,
   "metadata": {},
   "outputs": [],
   "source": [
    "def drawData(data:pandas.DataFrame) -> None:\n",
    "    fig,ax = plt.subplots(facecolor='w')\n",
    "    ax.set_title('世帯の月間支出')\n",
    "    ax.set_xlabel('年')\n",
    "    ax.set_ylabel('万円')\n",
    "    #積み上げ棒グラフの基準となるSeries\n",
    "    bottom = pandas.Series([0]*len(data.columns),index=data.columns)\n",
    "\n",
    "\n",
    "\n",
    "\n",
    "\n",
    "    plt.show()"
   ]
  },
  {
   "cell_type": "code",
   "execution_count": null,
   "metadata": {},
   "outputs": [],
   "source": [
    "data = getData(url)\n",
    "drawData(data)"
   ]
  }
 ],
 "metadata": {
  "kernelspec": {
   "display_name": "myenv",
   "language": "python",
   "name": "python3"
  },
  "language_info": {
   "codemirror_mode": {
    "name": "ipython",
    "version": 3
   },
   "file_extension": ".py",
   "mimetype": "text/x-python",
   "name": "python",
   "nbconvert_exporter": "python",
   "pygments_lexer": "ipython3",
   "version": "3.12.2"
  },
  "orig_nbformat": 4
 },
 "nbformat": 4,
 "nbformat_minor": 2
}
